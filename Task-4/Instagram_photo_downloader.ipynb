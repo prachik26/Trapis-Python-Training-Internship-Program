{
 "cells": [
  {
   "cell_type": "code",
   "execution_count": 15,
   "id": "685f3fbc",
   "metadata": {},
   "outputs": [],
   "source": [
    "from tkinter import *\n",
    "import instaloader\n",
    "import os\n",
    "from tkinter import filedialog\n",
    "\n",
    "root=Tk()\n",
    "root.title(\"Instagram Photo Downloader\")\n",
    "root.geometry(\"350x350\")\n",
    "\n",
    "Label(root,text=\"Photo Downloader\",font=\"Candara 18 bold\").pack() #The heading\n",
    "Label(root,text=\"Login Details: \",font=\"arial 13 bold\").place(x=20,y=60)\n",
    "Label(root,text=\"Username \",font=\"Candara 11\").place(x=40,y=110) #The username used for logging in private accounts\n",
    "Label(root,text=\"Password \",font=\"Candara 11\").place(x=40,y=155) #The password for logging in\n",
    "Label(root,text=\"Account \",font=\"Candara 11\").place(x=40,y=200) #The photos of the account(username) you want to download\n",
    "\n",
    "e1=Entry(root)\n",
    "e1.place(x=150,y=110,width=155)\n",
    "e2=Entry(root,show=\"*\")\n",
    "e2.place(x=150,y=155,width=155)\n",
    "e3=Entry(root)\n",
    "e3.place(x=150,y=200,width=155)\n",
    "\n",
    "mod=instaloader.Instaloader()\n",
    "\n",
    "def download(): #Function called for downloading the pictures\n",
    "    user=str(e1.get())\n",
    "    passw=str(e2.get())\n",
    "    acc=str(e3.get())\n",
    "    mod.login(user,passw) #Logging into the private account\n",
    "    path=filedialog.askdirectory() #The path where the photos will be downloaded\n",
    "    os.chdir(path) #Changing directory to the path\n",
    "    mod.download_profile(acc,profile_pic_only=False)\n",
    "    \n",
    "def clear(): #Function called for clearing all the text fields\n",
    "    e1.delete(\"0\",END)\n",
    "    e2.delete(\"0\",END)\n",
    "    e3.delete(\"0\",END)\n",
    "    \n",
    "def exit(): #Function for exiting the window\n",
    "    root.destroy()\n",
    "    \n",
    "b1=Button(root,text=\"Download\",font=\"Arial 9\",command=download) #Button for download command\n",
    "b1.place(x=35,y=270,width=80)\n",
    "b2=Button(root,text=\"Clear\", font=\"Arial 9\",command=clear) #Button for clearing all the fields\n",
    "b2.place(x=135,y=270,width=80)\n",
    "b3=Button(root,text=\"Exit\",font=\"Arial 9\",command=exit)\n",
    "b3.place(x=235,y=270,width=80)\n",
    "\n",
    "root.mainloop()"
   ]
  }
 ],
 "metadata": {
  "kernelspec": {
   "display_name": "Python 3",
   "language": "python",
   "name": "python3"
  },
  "language_info": {
   "codemirror_mode": {
    "name": "ipython",
    "version": 3
   },
   "file_extension": ".py",
   "mimetype": "text/x-python",
   "name": "python",
   "nbconvert_exporter": "python",
   "pygments_lexer": "ipython3",
   "version": "3.8.5"
  }
 },
 "nbformat": 4,
 "nbformat_minor": 5
}
