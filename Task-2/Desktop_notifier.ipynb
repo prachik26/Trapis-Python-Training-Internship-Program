{
 "cells": [
  {
   "cell_type": "code",
   "execution_count": 2,
   "id": "6d598727",
   "metadata": {},
   "outputs": [],
   "source": [
    "import time\n",
    "from plyer import notification\n",
    "\n",
    "if __name__ == '__main__':\n",
    "    notification.notify(title=\"This is a reminder!\",\n",
    "                         message=\"You have to think positive and take care of yourself...!\",\n",
    "                         app_icon=None,\n",
    "                         timeout=10)"
   ]
  }
 ],
 "metadata": {
  "kernelspec": {
   "display_name": "Python 3",
   "language": "python",
   "name": "python3"
  },
  "language_info": {
   "codemirror_mode": {
    "name": "ipython",
    "version": 3
   },
   "file_extension": ".py",
   "mimetype": "text/x-python",
   "name": "python",
   "nbconvert_exporter": "python",
   "pygments_lexer": "ipython3",
   "version": "3.8.5"
  }
 },
 "nbformat": 4,
 "nbformat_minor": 5
}
